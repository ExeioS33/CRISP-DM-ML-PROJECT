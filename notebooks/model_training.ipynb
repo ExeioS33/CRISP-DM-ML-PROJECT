{
 "cells": [
  {
   "cell_type": "code",
   "execution_count": 30,
   "id": "3de00c7c-4650-44d7-9ec9-6b9a0405644f",
   "metadata": {},
   "outputs": [],
   "source": [
    "#########################################\n",
    "# 1) IMPORTS\n",
    "#########################################\n",
    "import numpy as np\n",
    "import pandas as pd\n",
    "import matplotlib.pyplot as plt\n",
    "import joblib\n",
    "\n",
    "# Splitting & Cross-validation\n",
    "from sklearn.model_selection import train_test_split, cross_val_score, GridSearchCV\n",
    "\n",
    "# Classifiers\n",
    "from sklearn.linear_model import LogisticRegression\n",
    "from sklearn.ensemble import RandomForestClassifier\n",
    "from sklearn.svm import SVC\n",
    "\n",
    "# Metrics\n",
    "from sklearn.metrics import (\n",
    "    roc_auc_score,\n",
    "    roc_curve,\n",
    "    confusion_matrix,\n",
    "    classification_report\n",
    ")\n",
    "\n",
    "# Scaling\n",
    "from sklearn.preprocessing import StandardScaler"
   ]
  },
  {
   "cell_type": "markdown",
   "id": "7543a545-8138-4981-91be-d7b1f1b706ed",
   "metadata": {},
   "source": [
    "# Import the featured dataset"
   ]
  },
  {
   "cell_type": "code",
   "execution_count": 3,
   "id": "3d9219af-b7d7-4e9a-b558-5ef05e28634e",
   "metadata": {},
   "outputs": [],
   "source": [
    "# Import dataset\n",
    "original_dataset = pd.read_csv('/home/jovyan/work/data/prepared_dataset.csv', index_col=0)"
   ]
  },
  {
   "cell_type": "code",
   "execution_count": 4,
   "id": "84158ef4-bb1d-4100-84b2-45733566ff2c",
   "metadata": {},
   "outputs": [],
   "source": [
    "# sci-kit learn libraries\n",
    "from sklearn.model_selection import train_test_split"
   ]
  },
  {
   "cell_type": "markdown",
   "id": "781ddf1d-d61d-4b7c-af88-34ad89e87651",
   "metadata": {},
   "source": [
    "# Split Dataset "
   ]
  },
  {
   "cell_type": "code",
   "execution_count": 8,
   "id": "23980b0f-5a65-4b7c-bf5c-cfbb3cd0a85e",
   "metadata": {
    "scrolled": true
   },
   "outputs": [
    {
     "data": {
      "text/html": [
       "<div>\n",
       "<style scoped>\n",
       "    .dataframe tbody tr th:only-of-type {\n",
       "        vertical-align: middle;\n",
       "    }\n",
       "\n",
       "    .dataframe tbody tr th {\n",
       "        vertical-align: top;\n",
       "    }\n",
       "\n",
       "    .dataframe thead th {\n",
       "        text-align: right;\n",
       "    }\n",
       "</style>\n",
       "<table border=\"1\" class=\"dataframe\">\n",
       "  <thead>\n",
       "    <tr style=\"text-align: right;\">\n",
       "      <th></th>\n",
       "      <th>sex</th>\n",
       "      <th>weight</th>\n",
       "      <th>height</th>\n",
       "      <th>resting.bp.s</th>\n",
       "      <th>cholesterol</th>\n",
       "      <th>fasting.blood.sugar</th>\n",
       "      <th>physical_activity</th>\n",
       "      <th>age</th>\n",
       "      <th>ST.slope</th>\n",
       "      <th>chest.pain.type</th>\n",
       "      <th>exercise.angina</th>\n",
       "      <th>max.heart.rate</th>\n",
       "      <th>oldpeak</th>\n",
       "      <th>resting.ecg</th>\n",
       "      <th>target</th>\n",
       "    </tr>\n",
       "  </thead>\n",
       "  <tbody>\n",
       "    <tr>\n",
       "      <th>360</th>\n",
       "      <td>1</td>\n",
       "      <td>98.2</td>\n",
       "      <td>171.0</td>\n",
       "      <td>105</td>\n",
       "      <td>0</td>\n",
       "      <td>0</td>\n",
       "      <td>0</td>\n",
       "      <td>54</td>\n",
       "      <td>2.0</td>\n",
       "      <td>3.0</td>\n",
       "      <td>0.0</td>\n",
       "      <td>115.0</td>\n",
       "      <td>0.0</td>\n",
       "      <td>0.0</td>\n",
       "      <td>1</td>\n",
       "    </tr>\n",
       "    <tr>\n",
       "      <th>842</th>\n",
       "      <td>1</td>\n",
       "      <td>83.0</td>\n",
       "      <td>166.0</td>\n",
       "      <td>135</td>\n",
       "      <td>203</td>\n",
       "      <td>0</td>\n",
       "      <td>0</td>\n",
       "      <td>42</td>\n",
       "      <td>2.0</td>\n",
       "      <td>2.0</td>\n",
       "      <td>0.0</td>\n",
       "      <td>132.0</td>\n",
       "      <td>0.0</td>\n",
       "      <td>0.0</td>\n",
       "      <td>0</td>\n",
       "    </tr>\n",
       "    <tr>\n",
       "      <th>54</th>\n",
       "      <td>0</td>\n",
       "      <td>95.8</td>\n",
       "      <td>201.0</td>\n",
       "      <td>130</td>\n",
       "      <td>180</td>\n",
       "      <td>0</td>\n",
       "      <td>2</td>\n",
       "      <td>53</td>\n",
       "      <td>2.0</td>\n",
       "      <td>4.0</td>\n",
       "      <td>1.0</td>\n",
       "      <td>140.0</td>\n",
       "      <td>1.5</td>\n",
       "      <td>0.0</td>\n",
       "      <td>0</td>\n",
       "    </tr>\n",
       "    <tr>\n",
       "      <th>528</th>\n",
       "      <td>1</td>\n",
       "      <td>80.5</td>\n",
       "      <td>146.0</td>\n",
       "      <td>139</td>\n",
       "      <td>283</td>\n",
       "      <td>0</td>\n",
       "      <td>1</td>\n",
       "      <td>62</td>\n",
       "      <td>1.0</td>\n",
       "      <td>2.0</td>\n",
       "      <td>0.0</td>\n",
       "      <td>135.0</td>\n",
       "      <td>0.3</td>\n",
       "      <td>0.0</td>\n",
       "      <td>0</td>\n",
       "    </tr>\n",
       "    <tr>\n",
       "      <th>969</th>\n",
       "      <td>1</td>\n",
       "      <td>57.4</td>\n",
       "      <td>165.0</td>\n",
       "      <td>140</td>\n",
       "      <td>321</td>\n",
       "      <td>0</td>\n",
       "      <td>0</td>\n",
       "      <td>40</td>\n",
       "      <td>1.0</td>\n",
       "      <td>3.0</td>\n",
       "      <td>0.0</td>\n",
       "      <td>182.0</td>\n",
       "      <td>0.0</td>\n",
       "      <td>2.0</td>\n",
       "      <td>0</td>\n",
       "    </tr>\n",
       "  </tbody>\n",
       "</table>\n",
       "</div>"
      ],
      "text/plain": [
       "     sex  weight  height  resting.bp.s  cholesterol  fasting.blood.sugar  \\\n",
       "360    1    98.2   171.0           105            0                    0   \n",
       "842    1    83.0   166.0           135          203                    0   \n",
       "54     0    95.8   201.0           130          180                    0   \n",
       "528    1    80.5   146.0           139          283                    0   \n",
       "969    1    57.4   165.0           140          321                    0   \n",
       "\n",
       "     physical_activity  age  ST.slope  chest.pain.type  exercise.angina  \\\n",
       "360                  0   54       2.0              3.0              0.0   \n",
       "842                  0   42       2.0              2.0              0.0   \n",
       "54                   2   53       2.0              4.0              1.0   \n",
       "528                  1   62       1.0              2.0              0.0   \n",
       "969                  0   40       1.0              3.0              0.0   \n",
       "\n",
       "     max.heart.rate  oldpeak  resting.ecg  target  \n",
       "360           115.0      0.0          0.0       1  \n",
       "842           132.0      0.0          0.0       0  \n",
       "54            140.0      1.5          0.0       0  \n",
       "528           135.0      0.3          0.0       0  \n",
       "969           182.0      0.0          2.0       0  "
      ]
     },
     "metadata": {},
     "output_type": "display_data"
    },
    {
     "data": {
      "text/html": [
       "<div>\n",
       "<style scoped>\n",
       "    .dataframe tbody tr th:only-of-type {\n",
       "        vertical-align: middle;\n",
       "    }\n",
       "\n",
       "    .dataframe tbody tr th {\n",
       "        vertical-align: top;\n",
       "    }\n",
       "\n",
       "    .dataframe thead th {\n",
       "        text-align: right;\n",
       "    }\n",
       "</style>\n",
       "<table border=\"1\" class=\"dataframe\">\n",
       "  <thead>\n",
       "    <tr style=\"text-align: right;\">\n",
       "      <th></th>\n",
       "      <th>sex</th>\n",
       "      <th>weight</th>\n",
       "      <th>height</th>\n",
       "      <th>resting.bp.s</th>\n",
       "      <th>cholesterol</th>\n",
       "      <th>fasting.blood.sugar</th>\n",
       "      <th>physical_activity</th>\n",
       "      <th>age</th>\n",
       "      <th>ST.slope</th>\n",
       "      <th>chest.pain.type</th>\n",
       "      <th>exercise.angina</th>\n",
       "      <th>max.heart.rate</th>\n",
       "      <th>oldpeak</th>\n",
       "      <th>resting.ecg</th>\n",
       "      <th>target</th>\n",
       "    </tr>\n",
       "  </thead>\n",
       "  <tbody>\n",
       "    <tr>\n",
       "      <th>369</th>\n",
       "      <td>1</td>\n",
       "      <td>96.6</td>\n",
       "      <td>157.0</td>\n",
       "      <td>140</td>\n",
       "      <td>0</td>\n",
       "      <td>0</td>\n",
       "      <td>1</td>\n",
       "      <td>58</td>\n",
       "      <td>2.0</td>\n",
       "      <td>4.0</td>\n",
       "      <td>1.0</td>\n",
       "      <td>120.0</td>\n",
       "      <td>2.0</td>\n",
       "      <td>0.0</td>\n",
       "      <td>1</td>\n",
       "    </tr>\n",
       "    <tr>\n",
       "      <th>1089</th>\n",
       "      <td>1</td>\n",
       "      <td>58.9</td>\n",
       "      <td>167.0</td>\n",
       "      <td>150</td>\n",
       "      <td>126</td>\n",
       "      <td>1</td>\n",
       "      <td>0</td>\n",
       "      <td>58</td>\n",
       "      <td>1.0</td>\n",
       "      <td>3.0</td>\n",
       "      <td>0.0</td>\n",
       "      <td>173.0</td>\n",
       "      <td>0.2</td>\n",
       "      <td>0.0</td>\n",
       "      <td>0</td>\n",
       "    </tr>\n",
       "    <tr>\n",
       "      <th>305</th>\n",
       "      <td>1</td>\n",
       "      <td>71.0</td>\n",
       "      <td>172.0</td>\n",
       "      <td>95</td>\n",
       "      <td>0</td>\n",
       "      <td>1</td>\n",
       "      <td>1</td>\n",
       "      <td>52</td>\n",
       "      <td>2.0</td>\n",
       "      <td>4.0</td>\n",
       "      <td>0.0</td>\n",
       "      <td>126.0</td>\n",
       "      <td>2.2</td>\n",
       "      <td>0.0</td>\n",
       "      <td>1</td>\n",
       "    </tr>\n",
       "    <tr>\n",
       "      <th>770</th>\n",
       "      <td>0</td>\n",
       "      <td>61.3</td>\n",
       "      <td>168.0</td>\n",
       "      <td>130</td>\n",
       "      <td>303</td>\n",
       "      <td>0</td>\n",
       "      <td>0</td>\n",
       "      <td>65</td>\n",
       "      <td>2.0</td>\n",
       "      <td>4.0</td>\n",
       "      <td>0.0</td>\n",
       "      <td>122.0</td>\n",
       "      <td>2.0</td>\n",
       "      <td>0.0</td>\n",
       "      <td>0</td>\n",
       "    </tr>\n",
       "    <tr>\n",
       "      <th>259</th>\n",
       "      <td>0</td>\n",
       "      <td>61.2</td>\n",
       "      <td>191.0</td>\n",
       "      <td>150</td>\n",
       "      <td>200</td>\n",
       "      <td>0</td>\n",
       "      <td>0</td>\n",
       "      <td>52</td>\n",
       "      <td>1.0</td>\n",
       "      <td>3.0</td>\n",
       "      <td>0.0</td>\n",
       "      <td>120.0</td>\n",
       "      <td>0.5</td>\n",
       "      <td>0.0</td>\n",
       "      <td>0</td>\n",
       "    </tr>\n",
       "  </tbody>\n",
       "</table>\n",
       "</div>"
      ],
      "text/plain": [
       "      sex  weight  height  resting.bp.s  cholesterol  fasting.blood.sugar  \\\n",
       "369     1    96.6   157.0           140            0                    0   \n",
       "1089    1    58.9   167.0           150          126                    1   \n",
       "305     1    71.0   172.0            95            0                    1   \n",
       "770     0    61.3   168.0           130          303                    0   \n",
       "259     0    61.2   191.0           150          200                    0   \n",
       "\n",
       "      physical_activity  age  ST.slope  chest.pain.type  exercise.angina  \\\n",
       "369                   1   58       2.0              4.0              1.0   \n",
       "1089                  0   58       1.0              3.0              0.0   \n",
       "305                   1   52       2.0              4.0              0.0   \n",
       "770                   0   65       2.0              4.0              0.0   \n",
       "259                   0   52       1.0              3.0              0.0   \n",
       "\n",
       "      max.heart.rate  oldpeak  resting.ecg  target  \n",
       "369            120.0      2.0          0.0       1  \n",
       "1089           173.0      0.2          0.0       0  \n",
       "305            126.0      2.2          0.0       1  \n",
       "770            122.0      2.0          0.0       0  \n",
       "259            120.0      0.5          0.0       0  "
      ]
     },
     "metadata": {},
     "output_type": "display_data"
    }
   ],
   "source": [
    "# 🔹 Step 5: Splitting the Dataset into Train and Test Sets (Stratified)\n",
    "train_set, test_set = train_test_split(\n",
    "    original_dataset,\n",
    "    test_size=0.2,\n",
    "    random_state=42,\n",
    "    stratify=original_dataset['target']  # Key line for classification\n",
    ")\n",
    "\n",
    "# Display the final datasets\n",
    "display(train_set.head())\n",
    "display(test_set.head())"
   ]
  },
  {
   "cell_type": "code",
   "execution_count": 9,
   "id": "f6bc8ffa-22fd-4153-bf45-2b6e10ef5811",
   "metadata": {},
   "outputs": [],
   "source": [
    "# Define your target column\n",
    "target_column = \"target\"\n",
    "\n",
    "# Training set: separate features and target\n",
    "X_train = train_set.drop(columns=[target_column])\n",
    "y_train = train_set[target_column]\n",
    "\n",
    "# Test set: separate features and target\n",
    "X_test = test_set.drop(columns=[target_column])\n",
    "y_test = test_set[target_column]"
   ]
  },
  {
   "cell_type": "code",
   "execution_count": 11,
   "id": "59d1f11d-c466-486e-be09-e4b1ca2a2c0b",
   "metadata": {},
   "outputs": [],
   "source": [
    "# Scaling features\n",
    "from sklearn.preprocessing import StandardScaler\n",
    "\n",
    "scaler = StandardScaler()\n",
    "X_train_scaled = scaler.fit_transform(X_train)\n",
    "X_test_scaled = scaler.transform(X_test)"
   ]
  },
  {
   "cell_type": "code",
   "execution_count": 13,
   "id": "ad1de56a-3a8b-48e6-b93b-4b242ab2a0c8",
   "metadata": {},
   "outputs": [],
   "source": [
    "%run utilities.ipynb"
   ]
  },
  {
   "cell_type": "code",
   "execution_count": 18,
   "id": "c0995411-0431-4d2e-b901-ff8849389357",
   "metadata": {
    "scrolled": true
   },
   "outputs": [
    {
     "data": {
      "image/png": "[encoded data removed]",
      "text/plain": [
       "<Figure size 1500x1000 with 1 Axes>"
      ]
     },
     "metadata": {},
     "output_type": "display_data"
    }
   ],
   "source": [
    "# check balancing of target features\n",
    "plot_numerical_distributions(original_dataset, numerical_vars=['target'])"
   ]
  },
  {
   "cell_type": "markdown",
   "id": "507637f5-3254-45b1-917e-9efcf20fdad9",
   "metadata": {},
   "source": [
    "# Models training"
   ]
  },
  {
   "cell_type": "code",
   "execution_count": 31,
   "id": "7900518a-63cb-4b1b-b3a7-d6106dd95a8f",
   "metadata": {},
   "outputs": [
    {
     "name": "stdout",
     "output_type": "stream",
     "text": [
      "===== BASELINE CROSS-VALIDATION (ROC AUC) =====\n",
      "LogisticRegression -> Mean ROC AUC: 0.897 (Std: 0.020)\n"
     ]
    },
    {
     "data": {
      "image/png": "[encoded data removed]",
      "text/plain": [
       "<Figure size 600x400 with 1 Axes>"
      ]
     },
     "metadata": {},
     "output_type": "display_data"
    },
    {
     "name": "stdout",
     "output_type": "stream",
     "text": [
      "RandomForest -> Mean ROC AUC: 0.935 (Std: 0.016)\n"
     ]
    },
    {
     "data": {
      "image/png": "[encoded data removed]",
      "text/plain": [
       "<Figure size 600x400 with 1 Axes>"
      ]
     },
     "metadata": {},
     "output_type": "display_data"
    },
    {
     "name": "stdout",
     "output_type": "stream",
     "text": [
      "SVC -> Mean ROC AUC: 0.913 (Std: 0.017)\n"
     ]
    },
    {
     "data": {
      "image/png": "[encoded data removed]",
      "text/plain": [
       "<Figure size 600x400 with 1 Axes>"
      ]
     },
     "metadata": {},
     "output_type": "display_data"
    }
   ],
   "source": [
    "#########################################\n",
    "# 3) BASELINE MODELS & CROSS-VALIDATION\n",
    "#########################################\n",
    "\n",
    "# Instantiate models\n",
    "models = [\n",
    "    (\"LogisticRegression\", LogisticRegression(random_state=42)),\n",
    "    (\"RandomForest\", RandomForestClassifier(random_state=42)),\n",
    "    (\"SVC\", SVC(probability=True, random_state=42))  # 'probability=True' needed for predict_proba\n",
    "]\n",
    "\n",
    "print(\"===== BASELINE CROSS-VALIDATION (ROC AUC) =====\")\n",
    "for name, model in models:\n",
    "    cv_scores = cross_val_score(\n",
    "        model,\n",
    "        X_train_scaled,   # scaled data\n",
    "        y_train,\n",
    "        cv=5,\n",
    "        scoring='roc_auc'\n",
    "    )\n",
    "    print(f\"{name} -> Mean ROC AUC: {cv_scores.mean():.3f} (Std: {cv_scores.std():.3f})\")\n",
    "    \n",
    "    # Visualize the CV scores per fold\n",
    "    plt.figure(figsize=(6, 4))\n",
    "    plt.bar(range(1, len(cv_scores) + 1), cv_scores, color='royalblue')\n",
    "    plt.xlabel('CV Fold')\n",
    "    plt.ylabel('ROC AUC Score')\n",
    "    plt.title(f'{name} - CV Scores (ROC AUC)')\n",
    "    plt.ylim([0, 1])\n",
    "    plt.xticks(range(1, len(cv_scores) + 1))\n",
    "    plt.show()"
   ]
  },
  {
   "cell_type": "markdown",
   "id": "23fd759e-f2e1-4867-b302-84a99b41d6f8",
   "metadata": {},
   "source": [
    "# HYPERPARAMETER TUNING"
   ]
  },
  {
   "cell_type": "code",
   "execution_count": 32,
   "id": "74287713-06fe-449c-a00f-ad2646259229",
   "metadata": {},
   "outputs": [
    {
     "name": "stdout",
     "output_type": "stream",
     "text": [
      "\n",
      "===== LOGISTIC REGRESSION RESULTS =====\n",
      "Best params (LogisticRegression): {'C': 0.01, 'max_iter': 100, 'penalty': 'l2'}\n",
      "Best CV ROC AUC: 0.899\n",
      "\n",
      "===== RANDOM FOREST RESULTS =====\n",
      "Best params (RandomForest): {'max_depth': 10, 'min_samples_split': 2, 'n_estimators': 100}\n",
      "Best CV ROC AUC: 0.937\n",
      "\n",
      "===== SVC RESULTS =====\n",
      "Best params (SVC): {'C': 10, 'gamma': 'scale', 'kernel': 'rbf'}\n",
      "Best CV ROC AUC: 0.914\n"
     ]
    }
   ],
   "source": [
    "#########################################\n",
    "# 4) HYPERPARAMETER TUNING (GRID SEARCH)\n",
    "#########################################\n",
    "\n",
    "# --- Logistic Regression ---\n",
    "param_grid_lr = {\n",
    "    'C': [0.01, 0.1, 1, 10],\n",
    "    'penalty': ['l2'],\n",
    "    'max_iter': [100, 200, 300]\n",
    "}\n",
    "\n",
    "grid_search_lr = GridSearchCV(\n",
    "    estimator=LogisticRegression(random_state=42),\n",
    "    param_grid=param_grid_lr,\n",
    "    scoring='roc_auc',\n",
    "    cv=5,\n",
    "    n_jobs=-1\n",
    ")\n",
    "grid_search_lr.fit(X_train_scaled, y_train)\n",
    "\n",
    "print(\"\\n===== LOGISTIC REGRESSION RESULTS =====\")\n",
    "print(\"Best params (LogisticRegression):\", grid_search_lr.best_params_)\n",
    "print(f\"Best CV ROC AUC: {grid_search_lr.best_score_:.3f}\")\n",
    "best_lr = grid_search_lr.best_estimator_\n",
    "\n",
    "# --- Random Forest ---\n",
    "param_grid_rf = {\n",
    "    'n_estimators': [50, 100, 200],\n",
    "    'max_depth': [None, 5, 10],\n",
    "    'min_samples_split': [2, 5]\n",
    "}\n",
    "\n",
    "grid_search_rf = GridSearchCV(\n",
    "    estimator=RandomForestClassifier(random_state=42),\n",
    "    param_grid=param_grid_rf,\n",
    "    scoring='roc_auc',\n",
    "    cv=5,\n",
    "    n_jobs=-1\n",
    ")\n",
    "grid_search_rf.fit(X_train_scaled, y_train)\n",
    "\n",
    "print(\"\\n===== RANDOM FOREST RESULTS =====\")\n",
    "print(\"Best params (RandomForest):\", grid_search_rf.best_params_)\n",
    "print(f\"Best CV ROC AUC: {grid_search_rf.best_score_:.3f}\")\n",
    "best_rf = grid_search_rf.best_estimator_\n",
    "\n",
    "# --- SVC ---\n",
    "param_grid_svc = {\n",
    "    'C': [0.01, 0.1, 1, 10],\n",
    "    'kernel': ['linear', 'rbf'],\n",
    "    'gamma': ['scale', 'auto']\n",
    "}\n",
    "\n",
    "grid_search_svc = GridSearchCV(\n",
    "    estimator=SVC(probability=True, random_state=42),\n",
    "    param_grid=param_grid_svc,\n",
    "    scoring='roc_auc',\n",
    "    cv=5,\n",
    "    n_jobs=-1\n",
    ")\n",
    "grid_search_svc.fit(X_train_scaled, y_train)\n",
    "\n",
    "print(\"\\n===== SVC RESULTS =====\")\n",
    "print(\"Best params (SVC):\", grid_search_svc.best_params_)\n",
    "print(f\"Best CV ROC AUC: {grid_search_svc.best_score_:.3f}\")\n",
    "best_svc = grid_search_svc.best_estimator_"
   ]
  },
  {
   "cell_type": "markdown",
   "id": "e2d9048b-fb73-4111-bc66-be67fe5ed5f0",
   "metadata": {},
   "source": [
    "# Model evaluation "
   ]
  },
  {
   "cell_type": "code",
   "execution_count": 33,
   "id": "9de1c821-9955-463b-8a1c-e0167706288c",
   "metadata": {},
   "outputs": [
    {
     "name": "stdout",
     "output_type": "stream",
     "text": [
      "\n",
      "===== TEST SET EVALUATION =====\n",
      "\n",
      "--- LogisticRegression ---\n",
      "Test ROC AUC: 0.906\n",
      "Confusion Matrix:\n",
      " [[ 91  21]\n",
      " [ 19 107]]\n",
      "Classification Report:\n",
      "               precision    recall  f1-score   support\n",
      "\n",
      "           0       0.83      0.81      0.82       112\n",
      "           1       0.84      0.85      0.84       126\n",
      "\n",
      "    accuracy                           0.83       238\n",
      "   macro avg       0.83      0.83      0.83       238\n",
      "weighted avg       0.83      0.83      0.83       238\n",
      "\n",
      "\n",
      "--- RandomForest ---\n",
      "Test ROC AUC: 0.961\n",
      "Confusion Matrix:\n",
      " [[102  10]\n",
      " [ 10 116]]\n",
      "Classification Report:\n",
      "               precision    recall  f1-score   support\n",
      "\n",
      "           0       0.91      0.91      0.91       112\n",
      "           1       0.92      0.92      0.92       126\n",
      "\n",
      "    accuracy                           0.92       238\n",
      "   macro avg       0.92      0.92      0.92       238\n",
      "weighted avg       0.92      0.92      0.92       238\n",
      "\n",
      "\n",
      "--- SVC ---\n",
      "Test ROC AUC: 0.936\n",
      "Confusion Matrix:\n",
      " [[ 95  17]\n",
      " [ 12 114]]\n",
      "Classification Report:\n",
      "               precision    recall  f1-score   support\n",
      "\n",
      "           0       0.89      0.85      0.87       112\n",
      "           1       0.87      0.90      0.89       126\n",
      "\n",
      "    accuracy                           0.88       238\n",
      "   macro avg       0.88      0.88      0.88       238\n",
      "weighted avg       0.88      0.88      0.88       238\n",
      "\n"
     ]
    },
    {
     "data": {
      "image/png": "[encoded data removed]",
      "text/plain": [
       "<Figure size 600x500 with 1 Axes>"
      ]
     },
     "metadata": {},
     "output_type": "display_data"
    }
   ],
   "source": [
    "#########################################\n",
    "# 5) EVALUATE EACH BEST MODEL ON TEST SET\n",
    "#########################################\n",
    "\n",
    "models_best = [\n",
    "    (\"LogisticRegression\", best_lr),\n",
    "    (\"RandomForest\", best_rf),\n",
    "    (\"SVC\", best_svc)\n",
    "]\n",
    "\n",
    "print(\"\\n===== TEST SET EVALUATION =====\")\n",
    "model_scores = []\n",
    "plt.figure(figsize=(6, 5))\n",
    "\n",
    "for name, model in models_best:\n",
    "    # Probability of the positive class (for ROC AUC)\n",
    "    y_proba_test = model.predict_proba(X_test_scaled)[:, 1]\n",
    "    roc_auc = roc_auc_score(y_test, y_proba_test)\n",
    "    \n",
    "    # Collect for final comparison\n",
    "    model_scores.append((name, roc_auc))\n",
    "    \n",
    "    # Plot ROC curve for each model\n",
    "    fpr, tpr, thresholds = roc_curve(y_test, y_proba_test)\n",
    "    plt.plot(fpr, tpr, label=f\"{name} (AUC={roc_auc:.3f})\")\n",
    "\n",
    "    print(f\"\\n--- {name} ---\")\n",
    "    print(f\"Test ROC AUC: {roc_auc:.3f}\")\n",
    "    \n",
    "    # Get classification metrics at the default threshold (0.5)\n",
    "    y_pred_test = model.predict(X_test_scaled)\n",
    "    print(\"Confusion Matrix:\\n\", confusion_matrix(y_test, y_pred_test))\n",
    "    print(\"Classification Report:\\n\", classification_report(y_test, y_pred_test))\n",
    "\n",
    "# Finalize the ROC plot\n",
    "plt.plot([0, 1], [0, 1], linestyle='--', color='gray')\n",
    "plt.xlabel(\"False Positive Rate\")\n",
    "plt.ylabel(\"True Positive Rate\")\n",
    "plt.title(\"ROC Curves - Heart Disease Prediction (Test Set)\")\n",
    "plt.legend()\n",
    "plt.show()"
   ]
  },
  {
   "cell_type": "markdown",
   "id": "aa6eece1-0be6-4b78-99fe-1b829bd30cee",
   "metadata": {},
   "source": [
    "## **📊 Business Insights on Heart Disease Prediction**\n",
    "### **🚀 Model Performance Highlights:**\n",
    "- **High Predictive Power:**  \n",
    "  All models have **AUC scores above 0.90**, showcasing **strong diagnostic capability**.\n",
    "  \n",
    "- **🔝 Random Forest Excels:**  \n",
    "  With an **AUC of 96.1%**, it is the **most accurate** model for predicting heart disease.\n",
    "\n",
    "### **💡 Potential Use in Healthcare:**\n",
    "#### **1️⃣ Early Detection**\n",
    "   - **Flag high-risk patients** for further medical evaluation.  \n",
    "   - Enables **proactive interventions** to reduce complications.\n",
    "\n",
    "#### **2️⃣ Preventative Interventions**\n",
    "   - Recommend **lifestyle changes** or **medications** **before symptoms worsen**.  \n",
    "   - Helps in **reducing long-term healthcare costs**.\n",
    "\n",
    "#### **3️⃣ Optimized Resource Allocation**\n",
    "   - **Prioritize high-risk patients** for faster treatment.  \n",
    "   - Improves **hospital efficiency** and **patient outcomes**.\n",
    "\n",
    "---"
   ]
  },
  {
   "cell_type": "markdown",
   "id": "75fae08a-f9f6-4b03-ad1e-4693449ce447",
   "metadata": {},
   "source": [
    "# Model saving"
   ]
  },
  {
   "cell_type": "code",
   "execution_count": 34,
   "id": "7da033ad-209f-4fde-ac20-75a6778288ed",
   "metadata": {},
   "outputs": [
    {
     "name": "stdout",
     "output_type": "stream",
     "text": [
      "\n",
      "===== BEST MODEL =====\n",
      "Model: RandomForest with Test ROC AUC = 0.961\n"
     ]
    }
   ],
   "source": [
    "import os\n",
    "import joblib\n",
    "from datetime import datetime\n",
    "\n",
    "#########################################\n",
    "# 6) COMPARE & SAVE THE BEST MODEL\n",
    "#########################################\n",
    "\n",
    "# Pick the model with the highest ROC AUC\n",
    "model_scores.sort(key=lambda x: x[1], reverse=True)\n",
    "best_model_name, best_model_score = model_scores[0]\n",
    "\n",
    "print(\"\\n===== BEST MODEL =====\")\n",
    "print(f\"Model: {best_model_name} with Test ROC AUC = {best_model_score:.3f}\")\n",
    "\n",
    "# Retrieve the actual model object\n",
    "best_model_object = dict(models_best)[best_model_name]"
   ]
  },
  {
   "cell_type": "code",
   "execution_count": 36,
   "id": "b771cc4c-2707-492d-b730-000be379da38",
   "metadata": {},
   "outputs": [
    {
     "name": "stdout",
     "output_type": "stream",
     "text": [
      "Saved the best model (RandomForest) to '/home/jovyan/work/models/RandomForest_20250129_154514.pkl'\n"
     ]
    }
   ],
   "source": [
    "# Create a dynamic filename (e.g., \"RandomForest_20250128_153045.pkl\")\n",
    "timestamp = datetime.now().strftime(\"%Y%m%d_%H%M%S\")\n",
    "dynamic_filename = f\"{best_model_name}_{timestamp}.pkl\"\n",
    "\n",
    "# Define the folder path where you want to save the model\n",
    "folder_path = \"/home/jovyan/work/models\"\n",
    "\n",
    "# Construct the full path\n",
    "save_model_path = os.path.join(folder_path, dynamic_filename)\n",
    "\n",
    "# Save the model to disk\n",
    "joblib.dump(best_model_object, save_model_path)\n",
    "print(f\"Saved the best model ({best_model_name}) to '{save_model_path}'\")"
   ]
  },
  {
   "cell_type": "markdown",
   "id": "f2093aef-4ebf-4d9d-872e-f58030bd5b62",
   "metadata": {},
   "source": [
    "# Recommandations\n",
    "- add metric scoring in the discussion with the business (example: use precision or recall for true/false positive rate)\n",
    "- add weight for features\n",
    "- search the best variables for the model training"
   ]
  }
 ],
 "metadata": {
  "kernelspec": {
   "display_name": "Python 3 (ipykernel)",
   "language": "python",
   "name": "python3"
  },
  "language_info": {
   "codemirror_mode": {
    "name": "ipython",
    "version": 3
   },
   "file_extension": ".py",
   "mimetype": "text/x-python",
   "name": "python",
   "nbconvert_exporter": "python",
   "pygments_lexer": "ipython3",
   "version": "3.12.8"
  }
 },
 "nbformat": 4,
 "nbformat_minor": 5
}
