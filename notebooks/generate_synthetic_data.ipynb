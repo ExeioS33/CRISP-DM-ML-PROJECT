{
 "cells": [
  {
   "cell_type": "markdown",
   "id": "990e17dd-0269-4447-afc7-952ed8dcc478",
   "metadata": {},
   "source": [
    "### Sup de Vinci, M2-BD, Data Scientist Approach, March 2024"
   ]
  },
  {
   "cell_type": "markdown",
   "id": "0ece58d4-6f1e-4c0f-8fbc-47733b3c9f6b",
   "metadata": {},
   "source": [
    "# Build Synthetic Datasets"
   ]
  },
  {
   "cell_type": "markdown",
   "id": "421950cc-d309-458f-b59d-e72016e7226b",
   "metadata": {},
   "source": [
    "### Import libraries"
   ]
  },
  {
   "cell_type": "code",
   "execution_count": 8,
   "id": "c1982a18-a604-4d74-8715-d7a0d0e3be36",
   "metadata": {},
   "outputs": [],
   "source": [
    "import numpy as np\n",
    "import pandas as pd\n",
    "import random\n",
    "import string\n",
    "\n",
    "from sklearn.datasets import make_classification\n",
    "from sklearn.datasets import make_regression\n",
    "\n",
    "# Seed for reproducibility\n",
    "random.seed(42)"
   ]
  },
  {
   "cell_type": "markdown",
   "id": "40c81f1a-46c9-43af-8867-48ccb8046f86",
   "metadata": {},
   "source": [
    "### Generate numerical vectors"
   ]
  },
  {
   "cell_type": "code",
   "execution_count": 9,
   "id": "0ac939fe-734c-46c6-b7b2-316931a89b41",
   "metadata": {
    "scrolled": true
   },
   "outputs": [
    {
     "name": "stdout",
     "output_type": "stream",
     "text": [
      "[0, 1, 2, 3, 4, 5, 6, 7, 8, 9]\n",
      "[10368 69913 58025 79244  2656 77874 21736 51113 57373 47703]\n"
     ]
    }
   ],
   "source": [
    "nb_items = 10\n",
    "\n",
    "# sequential integers over a specific range\n",
    "int_range = [ i for i in range(0, nb_items)]\n",
    "print(int_range)\n",
    "\n",
    "# random integers from a given range\n",
    "int_rand = np.random.randint(1, 100000, nb_items)\n",
    "print(int_rand)\n"
   ]
  },
  {
   "cell_type": "code",
   "execution_count": 4,
   "id": "88bf6869-863e-4b04-ab3d-36944f162d4a",
   "metadata": {},
   "outputs": [],
   "source": [
    "# Generate numerical values according to a known probability distribution\n",
    "\n",
    "# Generate a vector of 1000 numbers uniformly distributed between 0 and 10\n",
    "uniform_data = np.random.uniform(low=0, high=10, size=1000)\n",
    "\n",
    "# Generate a vector of 1000 numbers with mean=0 and standard deviation=1\n",
    "normal_data = np.random.normal(loc=0, scale=1, size=1000)\n",
    "\n",
    "# Generate a vector from a binomial distribution, with 10 trials and a success probability of 0.5\n",
    "binomial_data = np.random.binomial(n=10, p=0.5, size=1000)\n",
    "\n",
    "# Generate a vector of 1000 numbers from a Poisson distribution with lambda=3\n",
    "poisson_data = np.random.poisson(lam=3, size=1000)\n",
    "\n",
    "# Generate a vector of 1000 numbers from an exponential distribution with scale=1\n",
    "exponential_data = np.random.exponential(scale=1, size=1000)\n"
   ]
  },
  {
   "cell_type": "markdown",
   "id": "3cff9e42-f32a-4672-a25e-7d77e4e86de8",
   "metadata": {},
   "source": [
    "### Generate categorical vectors"
   ]
  },
  {
   "cell_type": "code",
   "execution_count": 5,
   "id": "2fde64d4-2998-4d5c-8292-7da5a89e3641",
   "metadata": {},
   "outputs": [
    {
     "name": "stdout",
     "output_type": "stream",
     "text": [
      "['No' 'Yes' 'No' 'Yes' 'No' 'Yes' 'Yes' 'Yes' 'Yes' 'No' 'Yes' 'Yes' 'Yes'\n",
      " 'Yes' 'Yes' 'Yes' 'Yes' 'No' 'Yes' 'No' 'Yes' 'Yes' 'No' 'Yes' 'Yes'\n",
      " 'Yes' 'Yes' 'Yes' 'Yes' 'Yes' 'Yes' 'Yes' 'Yes' 'No' 'Yes' 'Yes' 'Yes'\n",
      " 'Yes' 'Yes' 'Yes' 'Yes' 'No' 'No' 'No' 'Yes' 'Yes' 'Yes' 'Yes' 'No' 'No'\n",
      " 'No' 'Yes' 'Yes' 'Yes' 'Yes' 'Yes' 'Yes' 'No' 'No' 'No' 'No' 'Yes' 'No'\n",
      " 'No' 'Yes' 'Yes' 'Yes' 'No' 'Yes' 'Yes' 'Yes' 'Yes' 'Yes' 'Yes' 'Yes'\n",
      " 'Yes' 'No' 'No' 'No' 'No' 'No' 'No' 'Yes' 'Yes' 'Yes' 'Yes' 'Yes' 'Yes'\n",
      " 'Yes' 'Yes' 'No' 'Yes' 'No' 'Yes' 'No' 'No' 'Yes' 'Yes' 'Yes' 'Yes']\n",
      "['Fish' 'Fish' 'Cat' 'Fish' 'Fish' 'Fish' 'Fish' 'Cat' 'Dog' 'Bird' 'Dog'\n",
      " 'Fish' 'Fish' 'Cat' 'Fish' 'Cat' 'Fish' 'Dog' 'Bird' 'Fish' 'Fish' 'Bird'\n",
      " 'Fish' 'Fish' 'Dog' 'Cat' 'Bird' 'Cat' 'Dog' 'Dog' 'Cat' 'Dog' 'Fish'\n",
      " 'Bird' 'Cat' 'Dog' 'Cat' 'Cat' 'Dog' 'Dog' 'Dog' 'Dog' 'Fish' 'Dog'\n",
      " 'Bird' 'Bird' 'Cat' 'Fish' 'Cat' 'Cat' 'Dog' 'Dog' 'Dog' 'Dog' 'Fish'\n",
      " 'Dog' 'Fish' 'Fish' 'Dog' 'Dog' 'Dog' 'Fish' 'Fish' 'Dog' 'Cat' 'Cat'\n",
      " 'Cat' 'Dog' 'Dog' 'Dog' 'Fish' 'Cat' 'Dog' 'Bird' 'Cat' 'Fish' 'Bird'\n",
      " 'Fish' 'Dog' 'Dog' 'Dog' 'Cat' 'Fish' 'Dog' 'Cat' 'Dog' 'Dog' 'Fish'\n",
      " 'Fish' 'Fish' 'Fish' 'Dog' 'Dog' 'Dog' 'Fish' 'Dog' 'Fish' 'Dog' 'Fish'\n",
      " 'Dog']\n"
     ]
    }
   ],
   "source": [
    "# Generate a vector of 100 random binary categories with a 70% probability of 'Yes' and 30% probability of 'No'\n",
    "binary_categories = np.random.choice(['Yes', 'No'], size=100, p=[0.7, 0.3])\n",
    "print(binary_categories)\n",
    "\n",
    "# Generate a vector of 100 random categories with specified probabilities\n",
    "categories = ['Cat', 'Dog', 'Bird', 'Fish']\n",
    "probabilities = [0.2, 0.5, 0.1, 0.2]  # Probabilities for each category\n",
    "multi_class_categories = np.random.choice(categories, 100, p=probabilities)\n",
    "print(multi_class_categories)\n"
   ]
  },
  {
   "cell_type": "code",
   "execution_count": 6,
   "id": "06a3f35c-6aed-4e9e-bd2c-d7a1bffedc3b",
   "metadata": {},
   "outputs": [
    {
     "name": "stdout",
     "output_type": "stream",
     "text": [
      "['OhbVrpoi', 'VgRV5IfL', 'BcbfnoGM', 'bJmTPSIA', 'oCLrZ3aW', 'ZkSBvrjn', '9Wvgfygw', '2wMqZcUD', 'Ih7yfJs1', 'ON43xKmT']\n"
     ]
    }
   ],
   "source": [
    "### Generate random string of text\n",
    "\n",
    "# Function to generate a random string\n",
    "def generate_random_string(length):\n",
    "    # Choose from letters and digits\n",
    "    characters = string.ascii_letters + string.digits\n",
    "    # Generate a random string of the specified length\n",
    "    return ''.join(random.choice(characters) for _ in range(length))\n",
    "\n",
    "# Generate a vector of 10 random strings, each 8 characters long\n",
    "random_strings = [generate_random_string(8) for _ in range(10)]\n",
    "print(random_strings)\n"
   ]
  },
  {
   "cell_type": "markdown",
   "id": "5785ebc2-d6a8-40f1-9fa8-c4d4fbb87717",
   "metadata": {},
   "source": [
    "### Putting a full data frame together"
   ]
  },
  {
   "cell_type": "code",
   "execution_count": 7,
   "id": "ce24c827-8ce3-4483-9f45-01917050a1f7",
   "metadata": {},
   "outputs": [
    {
     "name": "stdout",
     "output_type": "stream",
     "text": [
      "   Age  Weight  Height  Diabetic  Blood_Pressure\n",
      "0   57      68     180     False              77\n",
      "1   31      63     165     False             172\n",
      "2   23      92     194      True             148\n",
      "3   58      92     159     False             169\n",
      "4   41     100     165     False             107\n"
     ]
    }
   ],
   "source": [
    "# Seed for reproducibility\n",
    "random.seed(42)\n",
    "\n",
    "# Generate synthetic dataset\n",
    "num_records = 1000\n",
    "data = {\n",
    "    'Age': np.random.randint(0, 100, num_records),\n",
    "    'Weight': np.random.randint(50, 120, num_records),  # Weight in kg\n",
    "    'Height': np.random.randint(150, 200, num_records),  # Height in cm\n",
    "    'Diabetic': np.random.choice([True, False], num_records, p=[0.2, 0.8]),\n",
    "    'Blood_Pressure': np.random.randint(70, 180, num_records)  # Systolic BP\n",
    "}\n",
    "\n",
    "df = pd.DataFrame(data)\n",
    "\n",
    "print(df.head())"
   ]
  },
  {
   "cell_type": "markdown",
   "id": "f5ecc4b0-0ffc-48fc-8301-2d517e6d0a6f",
   "metadata": {},
   "source": [
    "### Building ML specific dataset for classification with Scikit-learn"
   ]
  },
  {
   "cell_type": "code",
   "execution_count": 10,
   "id": "ed349be8-812b-4938-94a1-9394f701f6f7",
   "metadata": {},
   "outputs": [
    {
     "name": "stdout",
     "output_type": "stream",
     "text": [
      "[[-0.79088179  0.95783963  0.72307438  0.29094736  0.37942674]\n",
      " [ 1.37284847 -0.18039168 -1.06763945 -0.35744542 -1.05543736]\n",
      " [ 0.28375102  0.6952029   1.31007519  1.37053614  0.53935411]\n",
      " ...\n",
      " [ 0.78991972  1.25313282  0.73334515  0.24020584  0.71079614]\n",
      " [-0.14152964 -0.73423332  1.56875518  0.48777482  1.57402416]\n",
      " [-2.8321556  -1.51934608  0.22845199  1.03837885  1.54168435]]\n"
     ]
    }
   ],
   "source": [
    "# Generate a dataset with 2 informative features\n",
    "X, y = make_classification(n_samples=1000, n_features=5, n_informative=2, n_redundant=0, n_classes=2, random_state=42)\n",
    "\n",
    "print(X)"
   ]
  },
  {
   "cell_type": "markdown",
   "id": "5d802981-420a-4c04-999c-f805481bcd12",
   "metadata": {},
   "source": [
    "### Building ML specific dataset for regression with Scikit-learn"
   ]
  },
  {
   "cell_type": "code",
   "execution_count": 11,
   "id": "2d448b3d-2c05-4ac9-b159-2fa2d6500bcb",
   "metadata": {},
   "outputs": [
    {
     "name": "stdout",
     "output_type": "stream",
     "text": [
      "[[ 0.01839745 -0.59536475  1.07857069 -1.36969432 -1.99957024]\n",
      " [-0.03144901  0.88278915  0.40541392  1.31097198 -0.41349045]\n",
      " [-0.43676146  0.15566616  0.50565826  0.47431232 -0.47147162]\n",
      " ...\n",
      " [ 1.13950507  0.89547731  0.33791828  0.54367675  0.12404364]\n",
      " [ 1.73545637  1.68357568 -2.06667086 -0.99969473 -1.50214465]\n",
      " [-0.0354725   0.17126608  0.45007559  2.26287084 -2.6406482 ]]\n"
     ]
    }
   ],
   "source": [
    "# Generate a dataset for a regression problem\n",
    "features, output, coef = make_regression(n_samples = 1000,\n",
    "                                   n_features = 5,\n",
    "                                   n_informative = 3,\n",
    "                                   n_targets = 1,\n",
    "                                   noise = 0,\n",
    "                                   coef = True\n",
    "                                   )\n",
    "\n",
    "print(features)"
   ]
  },
  {
   "cell_type": "markdown",
   "id": "01baa259-8b84-4665-b7a6-acfc9c3df7f6",
   "metadata": {},
   "source": [
    "### Building ML specific dataset for clustering"
   ]
  },
  {
   "cell_type": "code",
   "execution_count": 12,
   "id": "2597b745-ee9b-4de1-8f81-10342471821d",
   "metadata": {},
   "outputs": [
    {
     "data": {
      "image/png": "[encoded data removed]",
      "text/plain": [
       "<Figure size 640x480 with 1 Axes>"
      ]
     },
     "metadata": {},
     "output_type": "display_data"
    }
   ],
   "source": [
    "import matplotlib.pyplot as plt\n",
    "from sklearn.datasets import make_blobs\n",
    "\n",
    "X, y = make_blobs(n_samples = 500,\n",
    "                  n_features = 3,\n",
    "                  centers = 3,\n",
    "                  cluster_std = 0.6,\n",
    "                  shuffle = True\n",
    "                 )\n",
    "\n",
    "plt.scatter(X[:,0], X[:,1])\n",
    "plt.show()"
   ]
  },
  {
   "cell_type": "code",
   "execution_count": null,
   "id": "daf57dc1-d839-4d12-8a1c-45beb5e52fc6",
   "metadata": {},
   "outputs": [],
   "source": [
    "# Possible industry use cases:\n",
    "## retail industry, health care, predictive maintenance, customer churn prediction, ...\n",
    "\n",
    "\n",
    "# Your code here"
   ]
  },
  {
   "cell_type": "markdown",
   "id": "ddb182cf-9333-4691-95de-9735ac93e0cb",
   "metadata": {},
   "source": [
    "# Below is a simulated dataset for a customer churn prediction use case in the telecommunications industry. This dataset contains 12 columns (11 features + 1 binary target variable labeled “Churn”). The data is entirely fictitious and for practice/demonstration purposes only.\n",
    "\n",
    "# Dataset Description\n",
    "- CustomerID (numeric identifier) – A unique ID for each customer.\n",
    "- TenureMonths (numeric) – Number of months the customer has stayed with the company.\n",
    "- Age (numeric) – Age of the customer in years.\n",
    "- Gender (categorical: \"Male\", \"Female\") – Gender of the customer.\n",
    "- MonthlyCharges (numeric) – Current monthly subscription charges.\n",
    "- TotalCharges (numeric) – Total amount charged to the customer so far.\n",
    "- ContractType (categorical) – Type of contract (e.g., \"Month-to-month\", \"One year\", \"Two year\").\n",
    "- InternetService (categorical) – Type of internet service (e.g., \"DSL\", \"Fiber optic\", \"No\").\n",
    "- PaymentMethod (categorical) – Payment method used by the customer (e.g., \"Electronic check\", \"Mailed check\", \"Credit card (automatic)\", \"Bank transfer (automatic)\").\n",
    "- Dependents (binary: 1 or 0) – Indicates whether the customer has dependents.\n",
    "- PaperlessBilling (binary: 1 or 0) – Indicates if the customer is on paperless billing.\n",
    "- Churn (binary target: 1 or 0) – Indicates whether the customer has churned (1) or not (0)."
   ]
  },
  {
   "cell_type": "code",
   "execution_count": 13,
   "id": "ccf82651-a8d3-466f-9b1c-659bf8332fae",
   "metadata": {},
   "outputs": [
    {
     "name": "stdout",
     "output_type": "stream",
     "text": [
      "   CustomerID  TenureMonths  Age  Gender  MonthlyCharges  TotalCharges  \\\n",
      "0        1001            39   51  Female           67.98       2651.22   \n",
      "1        1002            52   45  Female           78.08       4060.16   \n",
      "2        1003            29   48    Male           47.17       1367.93   \n",
      "3        1004            15   25    Male           59.83        897.45   \n",
      "4        1005            43   56    Male           29.17       1254.31   \n",
      "\n",
      "  ContractType InternetService              PaymentMethod  Dependents  \\\n",
      "0     Two year     Fiber optic  Bank transfer (automatic)           1   \n",
      "1     One year              No               Mailed check           0   \n",
      "2     Two year              No    Credit card (automatic)           0   \n",
      "3     One year     Fiber optic  Bank transfer (automatic)           1   \n",
      "4     Two year             DSL  Bank transfer (automatic)           0   \n",
      "\n",
      "   PaperlessBilling  Churn  \n",
      "0                 1      0  \n",
      "1                 0      1  \n",
      "2                 0      0  \n",
      "3                 1      0  \n",
      "4                 0      0  \n"
     ]
    }
   ],
   "source": [
    "import numpy as np\n",
    "import pandas as pd\n",
    "\n",
    "# Set seed for reproducibility\n",
    "np.random.seed(42)\n",
    "\n",
    "# ---------------------------\n",
    "# 1. SIMULATE FEATURES\n",
    "# ---------------------------\n",
    "\n",
    "# Number of samples\n",
    "n_samples = 1000\n",
    "\n",
    "# Numeric features\n",
    "tenure_months = np.random.randint(1, 61, size=n_samples)   # 1 to 60 months\n",
    "age = np.random.randint(18, 80, size=n_samples)            # 18 to 79 years\n",
    "monthly_charges = np.round(np.random.uniform(20, 120, size=n_samples), 2)  # $20 to $120\n",
    "total_charges = np.round(tenure_months * monthly_charges, 2)\n",
    "\n",
    "# Categorical features\n",
    "# - For simplicity, pick from a small set of possible values\n",
    "contract_type = np.random.choice(['Month-to-month', 'One year', 'Two year'], size=n_samples)\n",
    "internet_service = np.random.choice(['DSL', 'Fiber optic', 'No'], size=n_samples)\n",
    "payment_method = np.random.choice(['Electronic check', 'Mailed check', \n",
    "                                   'Credit card (automatic)', 'Bank transfer (automatic)'], \n",
    "                                  size=n_samples)\n",
    "gender = np.random.choice(['Male', 'Female'], size=n_samples)\n",
    "dependents = np.random.choice([0, 1], size=n_samples)       # 0 = No, 1 = Yes\n",
    "paperless_billing = np.random.choice([0, 1], size=n_samples)\n",
    "\n",
    "# ---------------------------\n",
    "# 2. CREATE A CORRELATED BINARY TARGET (CHURN)\n",
    "# ---------------------------\n",
    "# We'll use a simple logistic function based on selected numeric features (tenure, monthly_charges, age).\n",
    "# You can adjust the coefficients and intercept to control the prevalence.\n",
    "\n",
    "# Normalize numeric features for the logistic function\n",
    "X_tenure = (tenure_months - tenure_months.mean()) / tenure_months.std()\n",
    "X_monthly = (monthly_charges - monthly_charges.mean()) / monthly_charges.std()\n",
    "X_age = (age - age.mean()) / age.std()\n",
    "\n",
    "# Linear combination (logit)\n",
    "# Adjust the coefficients and intercept to get a plausible distribution\n",
    "logit = -0.5 * X_tenure + 1.0 * X_monthly - 0.3 * X_age  # Example coefficients\n",
    "# Probability of churn using the logistic (sigmoid) function\n",
    "churn_prob = 1 / (1 + np.exp(-logit))\n",
    "\n",
    "# Draw a binary outcome using the computed probabilities\n",
    "churn = np.random.binomial(1, churn_prob)\n",
    "\n",
    "# ---------------------------\n",
    "# 3. CREATE A PANDAS DATAFRAME\n",
    "# ---------------------------\n",
    "df = pd.DataFrame({\n",
    "    'TenureMonths': tenure_months,\n",
    "    'Age': age,\n",
    "    'Gender': gender,\n",
    "    'MonthlyCharges': monthly_charges,\n",
    "    'TotalCharges': total_charges,\n",
    "    'ContractType': contract_type,\n",
    "    'InternetService': internet_service,\n",
    "    'PaymentMethod': payment_method,\n",
    "    'Dependents': dependents,\n",
    "    'PaperlessBilling': paperless_billing,\n",
    "    'Churn': churn\n",
    "})\n",
    "\n",
    "# Optional: add a unique CustomerID\n",
    "df['CustomerID'] = np.arange(1001, 1001 + n_samples)\n",
    "\n",
    "# Reorder columns to put CustomerID first and Churn last, purely for aesthetics\n",
    "cols = ['CustomerID', 'TenureMonths', 'Age', 'Gender', 'MonthlyCharges',\n",
    "        'TotalCharges', 'ContractType', 'InternetService', 'PaymentMethod',\n",
    "        'Dependents', 'PaperlessBilling', 'Churn']\n",
    "df = df[cols]\n",
    "\n",
    "# Inspect first few rows\n",
    "print(df.head())"
   ]
  }
 ],
 "metadata": {
  "kernelspec": {
   "display_name": "Python 3 (ipykernel)",
   "language": "python",
   "name": "python3"
  },
  "language_info": {
   "codemirror_mode": {
    "name": "ipython",
    "version": 3
   },
   "file_extension": ".py",
   "mimetype": "text/x-python",
   "name": "python",
   "nbconvert_exporter": "python",
   "pygments_lexer": "ipython3",
   "version": "3.12.8"
  }
 },
 "nbformat": 4,
 "nbformat_minor": 5
}
